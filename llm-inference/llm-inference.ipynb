{
 "cells": [
  {
   "cell_type": "markdown",
   "metadata": {},
   "source": [
    "## LLM Inference Workshop\n",
    "\n",
    "This notebook explores how to run inference with Large Language Models (LLMs) efficiently, demonstrating the progression from full precision to quantized models."
   ]
  },
  {
   "cell_type": "code",
   "execution_count": null,
   "metadata": {},
   "outputs": [],
   "source": [
    "#!pip install -q transformers torch accelerate bitsandbytes psutil pandas matplotlib"
   ]
  },
  {
   "cell_type": "code",
   "execution_count": 2,
   "metadata": {},
   "outputs": [
    {
     "name": "stdout",
     "output_type": "stream",
     "text": [
      "Sat May  3 18:50:39 2025       \n",
      "+---------------------------------------------------------------------------------------+\n",
      "| NVIDIA-SMI 535.161.08             Driver Version: 535.161.08   CUDA Version: 12.2     |\n",
      "|-----------------------------------------+----------------------+----------------------+\n",
      "| GPU  Name                 Persistence-M | Bus-Id        Disp.A | Volatile Uncorr. ECC |\n",
      "| Fan  Temp   Perf          Pwr:Usage/Cap |         Memory-Usage | GPU-Util  Compute M. |\n",
      "|                                         |                      |               MIG M. |\n",
      "|=========================================+======================+======================|\n",
      "|   0  NVIDIA H100 NVL                On  | 00000000:17:00.0 Off |                    0 |\n",
      "| N/A   33C    P0              61W / 400W |      0MiB / 95830MiB |      0%      Default |\n",
      "|                                         |                      |             Disabled |\n",
      "+-----------------------------------------+----------------------+----------------------+\n",
      "                                                                                         \n",
      "+---------------------------------------------------------------------------------------+\n",
      "| Processes:                                                                            |\n",
      "|  GPU   GI   CI        PID   Type   Process name                            GPU Memory |\n",
      "|        ID   ID                                                             Usage      |\n",
      "|=======================================================================================|\n",
      "|  No running processes found                                                           |\n",
      "+---------------------------------------------------------------------------------------+\n"
     ]
    }
   ],
   "source": [
    "!nvidia-smi"
   ]
  },
  {
   "cell_type": "markdown",
   "metadata": {},
   "source": [
    "## Loading Models with Different Precision\n",
    "\n",
    "Let's explore different precision options for LLM inference, starting with higher precision (fp16/bf16) and then moving to quantized models (8-bit, 4-bit)."
   ]
  },
  {
   "cell_type": "code",
   "execution_count": 3,
   "metadata": {},
   "outputs": [
    {
     "name": "stderr",
     "output_type": "stream",
     "text": [
      "/software/python-anaconda-2022.05-el8-x86_64/envs/pytorch/lib/python3.9/site-packages/tqdm/auto.py:21: TqdmWarning: IProgress not found. Please update jupyter and ipywidgets. See https://ipywidgets.readthedocs.io/en/stable/user_install.html\n",
      "  from .autonotebook import tqdm as notebook_tqdm\n"
     ]
    },
    {
     "name": "stdout",
     "output_type": "stream",
     "text": [
      "_CudaDeviceProperties(name='NVIDIA H100 NVL', major=9, minor=0, total_memory=95248MB, multi_processor_count=132, uuid=05c8d75e-a104-1bf7-9b12-317666e3ec95, L2_cache_size=60MB)\n"
     ]
    }
   ],
   "source": [
    "import textwrap\n",
    "from IPython.display import display, clear_output\n",
    "from transformers import AutoModelForCausalLM, AutoTokenizer, BitsAndBytesConfig, logging as hf_logging\n",
    "import torch\n",
    "import time\n",
    "import os\n",
    "import psutil\n",
    "import pandas as pd\n",
    "import matplotlib.pyplot as plt\n",
    "\n",
    "\n",
    "hf_logging.set_verbosity_error()\n",
    "device = torch.device(\"cuda\" if torch.cuda.is_available() else \"cpu\")\n",
    "\n",
    "print(torch.cuda.get_device_properties(device))"
   ]
  },
  {
   "cell_type": "markdown",
   "metadata": {},
   "source": [
    "`print_memory_usage()` provides utilities for benchmarking Large Language Model (LLM) inference performance:\n",
    "\n",
    "- Checks if CUDA (GPU) is available\n",
    "- If available, returns the current GPU memory usage in megabytes (MB)\n",
    "- Useful for monitoring memory consumption during model inference"
   ]
  },
  {
   "cell_type": "code",
   "execution_count": null,
   "metadata": {},
   "outputs": [],
   "source": [
    "def print_memory_usage():\n",
    "    \"\"\"Return current GPU memory usage in MB (allocated), or None if no GPU is available.\"\"\"\n",
    "    if torch.cuda.is_available():\n",
    "        allocated_bytes = torch.cuda.memory_allocated()\n",
    "        return allocated_bytes / (1024 * 1024)"
   ]
  },
  {
   "cell_type": "markdown",
   "metadata": {},
   "source": [
    "`inference_benchmark()` measures LLM inference speed:\n",
    "\n",
    "- Setup: Tokenizes the input prompt and moves it to the device (CPU/GPU)\n",
    "- Warmup: Performs an initial generation run to initialize the model (not included in timing)\n",
    "- Benchmarking: Runs model inference multiple times (num_runs), measuring execution time\n",
    "- Results: Returns a dictionary with:\n",
    "- avg_time: Average time per inference run in seconds\n",
    "- tokens_per_second: Throughput metric showing generation speed\n"
   ]
  },
  {
   "cell_type": "code",
   "execution_count": null,
   "metadata": {},
   "outputs": [],
   "source": [
    "def inference_benchmark(model, tokenizer, prompt, num_runs=3, max_new_tokens=256):\n",
    "    \"\"\"Benchmark inference speed\"\"\"\n",
    "    inputs = tokenizer(prompt, return_tensors=\"pt\").to(device)\n",
    "    \n",
    "    # Warmup\n",
    "    _ = model.generate(inputs[\"input_ids\"], max_new_tokens=100)\n",
    "    \n",
    "    # Benchmark\n",
    "    times = []\n",
    "    for _ in range(num_runs):\n",
    "        start_time = time.time()\n",
    "        _ = model.generate(\n",
    "            inputs[\"input_ids\"],\n",
    "            max_new_tokens=max_new_tokens\n",
    "        )\n",
    "        times.append(time.time() - start_time)\n",
    "    \n",
    "    return {\n",
    "        \"avg_time\": sum(times) / len(times),\n",
    "        \"tokens_per_second\": max_new_tokens / (sum(times) / len(times))\n",
    "    }\n"
   ]
  },
  {
   "cell_type": "code",
   "execution_count": 6,
   "metadata": {},
   "outputs": [],
   "source": [
    "# Choose a model \n",
    "#model_id = \"/project/rcc/shared/ai-workshops/Qwen2.5-7B-Instruct-1M\"\n",
    "model_id = \"/project/rcc/shared/ai-workshops/Mistral-Small-24B-Instruct-2501\"\n",
    "tokenizer = AutoTokenizer.from_pretrained(model_id)\n",
    "\n",
    "if tokenizer.pad_token is None:\n",
    "    tokenizer.pad_token = tokenizer.eos_token"
   ]
  },
  {
   "cell_type": "markdown",
   "metadata": {},
   "source": [
    "### FP16 Precision (Half Precision)\n",
    "\n",
    "Let's first load the model in FP16 precision, which is a good balance between accuracy and memory efficiency."
   ]
  },
  {
   "cell_type": "code",
   "execution_count": null,
   "metadata": {},
   "outputs": [
    {
     "name": "stdout",
     "output_type": "stream",
     "text": [
      "Loading model with FP16 precision...\n"
     ]
    },
    {
     "name": "stderr",
     "output_type": "stream",
     "text": [
      "Loading checkpoint shards: 100%|█████████████████████████████████████████████████████████████████████| 10/10 [00:44<00:00,  4.49s/it]\n"
     ]
    },
    {
     "name": "stdout",
     "output_type": "stream",
     "text": [
      "Memory footprint: 44960.81 MB\n"
     ]
    }
   ],
   "source": [
    "print(\"Loading model with FP16 precision...\")\n",
    "base_memory = print_memory_usage()\n",
    "\n",
    "# Load model with FP16 precision\n",
    "model_fp16 = AutoModelForCausalLM.from_pretrained(\n",
    "    model_id,\n",
    "    torch_dtype=torch.float16,\n",
    ")\n",
    "# move model to GPU\n",
    "model_fp16.to(device)\n",
    "\n",
    "fp16_memory = print_memory_usage() - base_memory\n",
    "print(f\"Memory footprint: {fp16_memory:.2f} MB\")"
   ]
  },
  {
   "cell_type": "markdown",
   "metadata": {},
   "source": [
    "Before running inference, we need to set up prompts.\n",
    "\n",
    "### System Prompt\n",
    "The system prompt defines the behavior, constraints, and personality of the AI model. It establishes:\n",
    "\n",
    "- **Role definition**: Sets the AI's identity (\"You are a helpful assistant\")\n",
    "- **Output formatting**: Specifies how responses should be structured (\"One plain paragraph\")\n",
    "- **Response style**: Defines tone and approach (\"concise and clear\")\n",
    "- **Constraints**: Sets boundaries on what the model should avoid (\"no lists, no headings, no filler\")\n",
    "\n",
    "### User Prompt\n",
    "The user prompt contains the actual query or task for the model to address. In this case, it requests an explanation about transformers with a specific focus on self-attention mechanisms."
   ]
  },
  {
   "cell_type": "code",
   "execution_count": null,
   "metadata": {},
   "outputs": [],
   "source": [
    "system_prompt = \"\"\"\n",
    "You are a helpful assistant. You will be given a task and you should respond with a solution.\n",
    "You should be concise and clear. You should not include any unnecessary information or details.\n",
    "One plain paragraph—no lists, no headings, no filler.\n",
    "\"\"\"\n",
    "\n",
    "prompt = \"Give me a short introduction to large language model inference.\"\n",
    "\n",
    "\n",
    "messages = [\n",
    "    {\"role\": \"system\",    \"content\": system_prompt},\n",
    "    {\"role\": \"user\",      \"content\": prompt},\n",
    "]\n"
   ]
  },
  {
   "cell_type": "markdown",
   "metadata": {},
   "source": [
    "To run some inference with the FP16 model:"
   ]
  },
  {
   "cell_type": "code",
   "execution_count": 9,
   "metadata": {},
   "outputs": [
    {
     "name": "stdout",
     "output_type": "stream",
     "text": [
      "Sample output from FP16 model:\n",
      "Large language model inference involves using a pre-trained language model to generate text,\n",
      "translate languages, answer questions, or perform other natural language processing tasks. During\n",
      "inference, the model takes an input sequence of text and predicts the most likely next words or\n",
      "phrases based on patterns it learned during training. This process leverages the model's\n",
      "understanding of language structure, semantics, and context to produce coherent and contextually\n",
      "relevant outputs.\n"
     ]
    }
   ],
   "source": [
    "input_ids = tokenizer.apply_chat_template(\n",
    "              messages,\n",
    "              add_generation_prompt=True,   # inserts the assistant marker\n",
    "              return_tensors=\"pt\").to(model_fp16.device)\n",
    "\n",
    "gen_ids = model_fp16.generate(input_ids, max_new_tokens=256)\n",
    "new_tokens = gen_ids[:, input_ids.shape[-1]:]        # <-- slice away the prompt\n",
    "response   = tokenizer.decode(new_tokens[0], skip_special_tokens=True)\n",
    "\n",
    "print(\"Sample output from FP16 model:\")\n",
    "print(textwrap.fill(response, 100))\n"
   ]
  },
  {
   "cell_type": "code",
   "execution_count": 10,
   "metadata": {},
   "outputs": [],
   "source": [
    "# Storage for benchmark results\n",
    "results = []\n",
    "\n",
    "fp16_benchmark = inference_benchmark(model_fp16, tokenizer, prompt)\n",
    "results.append({\n",
    "    \"Precision\": \"FP16\",\n",
    "    \"Memory (MB)\": fp16_memory,\n",
    "    \"Avg Generation Time (s)\": fp16_benchmark[\"avg_time\"],\n",
    "    \"Tokens/Second\": fp16_benchmark[\"tokens_per_second\"]\n",
    "})\n"
   ]
  },
  {
   "cell_type": "markdown",
   "metadata": {},
   "source": [
    "### BF16 Precision (Brain Floating Point)\n",
    "\n",
    "BF16 has the same number of bits as FP16 but a different distribution of precision, often better for training numerical stability."
   ]
  },
  {
   "cell_type": "code",
   "execution_count": null,
   "metadata": {},
   "outputs": [
    {
     "name": "stdout",
     "output_type": "stream",
     "text": [
      "Loading model with BF16 precision...\n"
     ]
    },
    {
     "name": "stderr",
     "output_type": "stream",
     "text": [
      "Loading checkpoint shards: 100%|█████████████████████████████████████████████████████████████████████| 10/10 [00:01<00:00,  8.73it/s]\n"
     ]
    },
    {
     "name": "stdout",
     "output_type": "stream",
     "text": [
      "Memory footprint: 44960.81 MB\n"
     ]
    }
   ],
   "source": [
    "# Free up memory\n",
    "del model_fp16\n",
    "torch.cuda.empty_cache()\n",
    "print_memory_usage()\n",
    "\n",
    "# Load model with BF16 precision\n",
    "print(\"Loading model with BF16 precision...\")\n",
    "base_memory = print_memory_usage()\n",
    "\n",
    "model_bf16 = AutoModelForCausalLM.from_pretrained(\n",
    "    model_id,\n",
    "    torch_dtype=torch.bfloat16,\n",
    ")\n",
    "\n",
    "model_bf16.to(device)\n",
    "\n",
    "bf16_memory = print_memory_usage() - base_memory\n",
    "print(f\"Memory footprint: {bf16_memory:.2f} MB\")"
   ]
  },
  {
   "cell_type": "code",
   "execution_count": 12,
   "metadata": {},
   "outputs": [],
   "source": [
    "# Test BF16 model inference\n",
    "bf16_benchmark = inference_benchmark(model_bf16, tokenizer, prompt)\n",
    "results.append({\n",
    "    \"Precision\": \"BF16\",\n",
    "    \"Memory (MB)\": bf16_memory,\n",
    "    \"Avg Generation Time (s)\": bf16_benchmark[\"avg_time\"],\n",
    "    \"Tokens/Second\": bf16_benchmark[\"tokens_per_second\"]\n",
    "})\n",
    "\n",
    "# Free up memory\n",
    "del model_bf16\n",
    "torch.cuda.empty_cache()"
   ]
  },
  {
   "cell_type": "markdown",
   "metadata": {},
   "source": [
    "### 8-bit Quantization\n",
    "\n",
    "Now let's try 8-bit quantization, which significantly reduces memory usage with minimal impact on quality."
   ]
  },
  {
   "cell_type": "code",
   "execution_count": 13,
   "metadata": {},
   "outputs": [
    {
     "name": "stdout",
     "output_type": "stream",
     "text": [
      "Loading model with 8-bit quantization...\n"
     ]
    },
    {
     "name": "stderr",
     "output_type": "stream",
     "text": [
      "Loading checkpoint shards: 100%|█████████████████████████████████████████████████████████████████████| 10/10 [00:41<00:00,  4.18s/it]"
     ]
    },
    {
     "name": "stdout",
     "output_type": "stream",
     "text": [
      "Memory footprint: 23773.31 MB\n"
     ]
    },
    {
     "name": "stderr",
     "output_type": "stream",
     "text": [
      "\n"
     ]
    }
   ],
   "source": [
    "print(\"Loading model with 8-bit quantization...\")\n",
    "base_memory = print_memory_usage()\n",
    "\n",
    "model_8bit = AutoModelForCausalLM.from_pretrained(\n",
    "    model_id,\n",
    "    device_map=\"auto\",\n",
    "    load_in_8bit=True\n",
    ")\n",
    "\n",
    "int8_memory = print_memory_usage() - base_memory\n",
    "print(f\"Memory footprint: {int8_memory:.2f} MB\")"
   ]
  },
  {
   "cell_type": "code",
   "execution_count": 14,
   "metadata": {},
   "outputs": [],
   "source": [
    "# Test 8-bit model inference\n",
    "int8_benchmark = inference_benchmark(model_8bit, tokenizer, prompt)\n",
    "results.append({\n",
    "    \"Precision\": \"INT8\",\n",
    "    \"Memory (MB)\": int8_memory,\n",
    "    \"Avg Generation Time (s)\": int8_benchmark[\"avg_time\"],\n",
    "    \"Tokens/Second\": int8_benchmark[\"tokens_per_second\"]\n",
    "})\n",
    "\n",
    "# Free up memory\n",
    "del model_8bit\n",
    "torch.cuda.empty_cache()"
   ]
  },
  {
   "cell_type": "markdown",
   "metadata": {},
   "source": [
    "### 4-bit Quantization\n",
    "\n",
    "Finally, let's try 4-bit quantization, which offers the maximum memory savings but may have more quality impact."
   ]
  },
  {
   "cell_type": "code",
   "execution_count": 15,
   "metadata": {},
   "outputs": [
    {
     "name": "stdout",
     "output_type": "stream",
     "text": [
      "Loading model with 4-bit quantization...\n"
     ]
    },
    {
     "name": "stderr",
     "output_type": "stream",
     "text": [
      "Loading checkpoint shards: 100%|█████████████████████████████████████████████████████████████████████| 10/10 [00:42<00:00,  4.28s/it]"
     ]
    },
    {
     "name": "stdout",
     "output_type": "stream",
     "text": [
      "Memory footprint: 13497.53 MB\n"
     ]
    },
    {
     "name": "stderr",
     "output_type": "stream",
     "text": [
      "\n"
     ]
    }
   ],
   "source": [
    "print(\"Loading model with 4-bit quantization...\")\n",
    "base_memory = print_memory_usage()\n",
    "\n",
    "# Configure 4-bit quantization options\n",
    "bnb_config = BitsAndBytesConfig(\n",
    "    load_in_4bit=True,\n",
    "    bnb_4bit_quant_type=\"nf4\",  # normalized float 4 format\n",
    "    bnb_4bit_compute_dtype=torch.float16,\n",
    "    bnb_4bit_use_double_quant=True\n",
    ")\n",
    "\n",
    "model_4bit = AutoModelForCausalLM.from_pretrained(\n",
    "    model_id,\n",
    "    quantization_config=bnb_config,\n",
    ")\n",
    "\n",
    "model_4bit.to(device)\n",
    "\n",
    "int4_memory = print_memory_usage() - base_memory\n",
    "print(f\"Memory footprint: {int4_memory:.2f} MB\")"
   ]
  },
  {
   "cell_type": "code",
   "execution_count": 16,
   "metadata": {},
   "outputs": [
    {
     "name": "stdout",
     "output_type": "stream",
     "text": [
      "Sample output from 4-Bit model:\n",
      "Large language model inference involves using a pre-trained language model to generate text,\n",
      "translate languages, answer questions, or perform other natural language processing tasks. During\n",
      "inference, the model takes input text and processes it through its layers to produce output text.\n",
      "This process leverages the model's learned patterns and structures from its training data to\n",
      "generate coherent and contextually relevant responses. The quality of the output depends on the\n",
      "model's architecture, the size of its training data, and the specific techniques used during\n",
      "training and inference.\n"
     ]
    }
   ],
   "source": [
    "# Test 4-bit model inference\n",
    "int4_benchmark = inference_benchmark(model_4bit, tokenizer, prompt)\n",
    "results.append({\n",
    "    \"Precision\": \"INT4\",\n",
    "    \"Memory (MB)\": int4_memory,\n",
    "    \"Avg Generation Time (s)\": int4_benchmark[\"avg_time\"],\n",
    "    \"Tokens/Second\": int4_benchmark[\"tokens_per_second\"]\n",
    "})\n",
    "\n",
    "\n",
    "input_ids = tokenizer.apply_chat_template(\n",
    "              messages,\n",
    "              add_generation_prompt=True,   # inserts the assistant marker\n",
    "              return_tensors=\"pt\").to(model_4bit.device)\n",
    "\n",
    "gen_ids = model_4bit.generate(input_ids, max_new_tokens=256)\n",
    "new_tokens = gen_ids[:, input_ids.shape[-1]:]        # <-- slice away the prompt\n",
    "response   = tokenizer.decode(new_tokens[0], skip_special_tokens=True)\n",
    "\n",
    "print(\"Sample output from 4-Bit model:\")\n",
    "print(textwrap.fill(response, 100))\n"
   ]
  },
  {
   "cell_type": "markdown",
   "metadata": {},
   "source": [
    "## FlashAttention"
   ]
  },
  {
   "cell_type": "code",
   "execution_count": 17,
   "metadata": {},
   "outputs": [
    {
     "name": "stdout",
     "output_type": "stream",
     "text": [
      "Loading model with Flash Attention in FP16 precision...\n"
     ]
    },
    {
     "name": "stderr",
     "output_type": "stream",
     "text": [
      "Loading checkpoint shards: 100%|█████████████████████████████████████████████████████████████████████| 10/10 [00:41<00:00,  4.18s/it]"
     ]
    },
    {
     "name": "stdout",
     "output_type": "stream",
     "text": [
      "Memory footprint: 44960.81 MB\n"
     ]
    },
    {
     "name": "stderr",
     "output_type": "stream",
     "text": [
      "\n"
     ]
    }
   ],
   "source": [
    "print(\"Loading model with Flash Attention in FP16 precision...\")\n",
    "base_memory = print_memory_usage()\n",
    "\n",
    "# Load model with FP16 precision\n",
    "\n",
    "model_flashattention = AutoModelForCausalLM.from_pretrained(\n",
    "    model_id,\n",
    "    torch_dtype=torch.float16,\n",
    "    attn_implementation=\"flash_attention_2\" if torch.cuda.is_available() else \"eager\",\n",
    "    device_map=\"auto\" \n",
    ")\n",
    "\n",
    "fp16fa_memory = print_memory_usage() - base_memory\n",
    "print(f\"Memory footprint: {fp16_memory:.2f} MB\")"
   ]
  },
  {
   "cell_type": "code",
   "execution_count": 18,
   "metadata": {},
   "outputs": [
    {
     "name": "stdout",
     "output_type": "stream",
     "text": [
      "Sample output from 16-bit flash attention quantized model:\n",
      "Large language model inference involves using a pre-trained language model to generate text,\n",
      "translate languages, answer questions, or perform other natural language processing tasks. During\n",
      "inference, the model takes an input sequence of text and predicts the most likely next words or\n",
      "phrases based on patterns it learned during training. This process leverages the model's\n",
      "understanding of language structure, semantics, and context to produce coherent and contextually\n",
      "relevant outputs.\n"
     ]
    }
   ],
   "source": [
    "# Test FP16 flash attention model inference\n",
    "fp16fa_benchmark = inference_benchmark(model_flashattention, tokenizer, prompt)\n",
    "results.append({\n",
    "    \"Precision\": \"FP16-FA\",\n",
    "    \"Memory (MB)\": fp16fa_memory,\n",
    "    \"Avg Generation Time (s)\": fp16fa_benchmark[\"avg_time\"],\n",
    "    \"Tokens/Second\": fp16fa_benchmark[\"tokens_per_second\"]\n",
    "})\n",
    "\n",
    "\n",
    "\n",
    "input_ids = tokenizer.apply_chat_template(\n",
    "              messages,\n",
    "              add_generation_prompt=True,   # inserts the assistant marker\n",
    "              return_tensors=\"pt\").to(model_flashattention.device)\n",
    "\n",
    "gen_ids = model_flashattention.generate(input_ids, max_new_tokens=256)\n",
    "new_tokens = gen_ids[:, input_ids.shape[-1]:]        # <-- slice away the prompt\n",
    "response   = tokenizer.decode(new_tokens[0], skip_special_tokens=True)\n",
    "\n",
    "print(\"Sample output from 16-bit flash attention quantized model:\")\n",
    "print(textwrap.fill(response, 100))\n"
   ]
  },
  {
   "cell_type": "markdown",
   "metadata": {},
   "source": [
    "## Comparing Results\n",
    "\n",
    "Let's visualize and compare the results from different precision formats:"
   ]
  },
  {
   "cell_type": "code",
   "execution_count": 21,
   "metadata": {},
   "outputs": [
    {
     "data": {
      "text/html": [
       "<div>\n",
       "<style scoped>\n",
       "    .dataframe tbody tr th:only-of-type {\n",
       "        vertical-align: middle;\n",
       "    }\n",
       "\n",
       "    .dataframe tbody tr th {\n",
       "        vertical-align: top;\n",
       "    }\n",
       "\n",
       "    .dataframe thead th {\n",
       "        text-align: right;\n",
       "    }\n",
       "</style>\n",
       "<table border=\"1\" class=\"dataframe\">\n",
       "  <thead>\n",
       "    <tr style=\"text-align: right;\">\n",
       "      <th></th>\n",
       "      <th>Precision</th>\n",
       "      <th>Memory (MB)</th>\n",
       "      <th>Avg Generation Time (s)</th>\n",
       "      <th>Tokens/Second</th>\n",
       "    </tr>\n",
       "  </thead>\n",
       "  <tbody>\n",
       "    <tr>\n",
       "      <th>0</th>\n",
       "      <td>FP16</td>\n",
       "      <td>44960.810547</td>\n",
       "      <td>14.684128</td>\n",
       "      <td>17.433789</td>\n",
       "    </tr>\n",
       "    <tr>\n",
       "      <th>1</th>\n",
       "      <td>BF16</td>\n",
       "      <td>44960.810547</td>\n",
       "      <td>13.532828</td>\n",
       "      <td>18.916962</td>\n",
       "    </tr>\n",
       "    <tr>\n",
       "      <th>2</th>\n",
       "      <td>INT8</td>\n",
       "      <td>23773.310547</td>\n",
       "      <td>38.672399</td>\n",
       "      <td>6.619708</td>\n",
       "    </tr>\n",
       "    <tr>\n",
       "      <th>3</th>\n",
       "      <td>INT4</td>\n",
       "      <td>13497.530273</td>\n",
       "      <td>20.847846</td>\n",
       "      <td>12.279446</td>\n",
       "    </tr>\n",
       "    <tr>\n",
       "      <th>4</th>\n",
       "      <td>FP16-FA</td>\n",
       "      <td>44960.810547</td>\n",
       "      <td>14.978494</td>\n",
       "      <td>17.091171</td>\n",
       "    </tr>\n",
       "  </tbody>\n",
       "</table>\n",
       "</div>"
      ],
      "text/plain": [
       "  Precision   Memory (MB)  Avg Generation Time (s)  Tokens/Second\n",
       "0      FP16  44960.810547                14.684128      17.433789\n",
       "1      BF16  44960.810547                13.532828      18.916962\n",
       "2      INT8  23773.310547                38.672399       6.619708\n",
       "3      INT4  13497.530273                20.847846      12.279446\n",
       "4   FP16-FA  44960.810547                14.978494      17.091171"
      ]
     },
     "metadata": {},
     "output_type": "display_data"
    }
   ],
   "source": [
    "results_df = pd.DataFrame(results)\n",
    "display(results_df)"
   ]
  },
  {
   "cell_type": "code",
   "execution_count": 22,
   "metadata": {},
   "outputs": [
    {
     "data": {
      "image/png": "[encoded data removed]",
      "text/plain": [
       "<Figure size 600x400 with 1 Axes>"
      ]
     },
     "metadata": {},
     "output_type": "display_data"
    }
   ],
   "source": [
    "unique_precisions = results_df[\"Precision\"].unique()\n",
    "color_map = {prec: f\"C{i}\" for i, prec in enumerate(unique_precisions)}\n",
    "\n",
    "# ------------------------------------------------------------------\n",
    "# MEMORY-USAGE PLOT (largest → smallest) ------------------------\n",
    "# ------------------------------------------------------------------\n",
    "mem_sorted = results_df.sort_values(\"Memory (MB)\", ascending=False)\n",
    "colors_mem = [color_map[p] for p in mem_sorted[\"Precision\"]]\n",
    "\n",
    "plt.figure(figsize=(6, 4))\n",
    "plt.bar(mem_sorted[\"Precision\"],\n",
    "        mem_sorted[\"Memory (MB)\"],\n",
    "        color=colors_mem)\n",
    "plt.title(\"GPU Memory Usage by Precision\")\n",
    "plt.ylabel(\"Memory Usage (MB)\")\n",
    "plt.grid(axis=\"y\", linestyle=\"--\", alpha=0.7)\n",
    "plt.tight_layout()\n",
    "plt.show()"
   ]
  },
  {
   "cell_type": "code",
   "execution_count": 23,
   "metadata": {},
   "outputs": [
    {
     "data": {
      "image/png": "[encoded data removed]",
      "text/plain": [
       "<Figure size 600x400 with 1 Axes>"
      ]
     },
     "metadata": {},
     "output_type": "display_data"
    }
   ],
   "source": [
    "# ------------------------------------------------------------------\n",
    "# SPEED PLOT (largest → smallest) -------------------------------\n",
    "# ------------------------------------------------------------------\n",
    "speed_sorted = results_df.sort_values(\"Tokens/Second\", ascending=False)\n",
    "colors_speed = [color_map[p] for p in speed_sorted[\"Precision\"]]\n",
    "\n",
    "plt.figure(figsize=(6, 4))\n",
    "plt.bar(speed_sorted[\"Precision\"],\n",
    "        speed_sorted[\"Tokens/Second\"],\n",
    "        color=colors_speed)\n",
    "plt.title(\"Inference Speed by Precision\")\n",
    "plt.ylabel(\"Tokens per Second\")\n",
    "plt.grid(axis=\"y\", linestyle=\"--\", alpha=0.7)\n",
    "plt.tight_layout()\n",
    "plt.show()"
   ]
  },
  {
   "cell_type": "markdown",
   "metadata": {},
   "source": [
    "### top_k, top_p, tempurature"
   ]
  },
  {
   "cell_type": "code",
   "execution_count": 24,
   "metadata": {},
   "outputs": [
    {
     "name": "stderr",
     "output_type": "stream",
     "text": [
      "/software/python-anaconda-2022.05-el8-x86_64/envs/pytorch/lib/python3.9/site-packages/transformers/generation/configuration_utils.py:628: UserWarning: `do_sample` is set to `False`. However, `temperature` is set to `0.15` -- this flag is only used in sample-based generation modes. You should set `do_sample=True` or unset `temperature`.\n",
      "  warnings.warn(\n"
     ]
    },
    {
     "name": "stdout",
     "output_type": "stream",
     "text": [
      "=== Greedy decoding (no sampling) ===\n",
      "Large language model inference involves using a pre-trained language model to generate text,\n",
      "translate languages, answer questions, or perform other natural language processing tasks. During\n",
      "inference, the model takes input text, processes it through its layers to understand the context and\n",
      "meaning, and then generates a relevant output based on the learned patterns from its training data.\n",
      "This process leverages the model's ability to predict the next word(s) in a sequence, making it\n",
      "highly versatile for various applications.\n"
     ]
    }
   ],
   "source": [
    "messages = [\n",
    "    {\"role\": \"system\", \"content\": system_prompt},\n",
    "    {\"role\": \"user\",   \"content\": \"Give me a short introduction to large language model inference.\"}\n",
    "]\n",
    "\n",
    "input_ids = tokenizer.apply_chat_template(\n",
    "    messages,\n",
    "    add_generation_prompt=True,      # inserts the assistant-start marker\n",
    "    return_tensors=\"pt\"\n",
    ").to(model_4bit.device)\n",
    "\n",
    "\n",
    "gen_ids = model_4bit.generate(\n",
    "    input_ids,\n",
    "    max_new_tokens=256,\n",
    "    do_sample=False                  # greedy search\n",
    ")\n",
    "\n",
    "# --- drop the prompt tokens and decode only the reply ---\n",
    "assistant_tokens = gen_ids[:, input_ids.shape[-1]:]\n",
    "greedy_response  = tokenizer.decode(assistant_tokens[0], skip_special_tokens=True)\n",
    "\n",
    "print(\"=== Greedy decoding (no sampling) ===\")\n",
    "print(textwrap.fill(greedy_response, 100))\n",
    "\n"
   ]
  },
  {
   "cell_type": "code",
   "execution_count": 26,
   "metadata": {},
   "outputs": [
    {
     "name": "stdout",
     "output_type": "stream",
     "text": [
      "=== Temperature Sampling (T = 1.5) ===\n",
      "Large language model (LLM) inference involves using a trained LLM to generate responses to user\n",
      "prompts, or answer questions. The model learns a probability distribution from its  preprocessing\n",
      "during the model optimization phase, as LLM takes in as input, a piece of a sequential information\n",
      "such text and predicts the upcoming token based on that. The model is usually trained extensively\n",
      "based a a very large of corpus (million parameters  and billions of text from the internet ). By\n",
      "computing this probabilities on given prompts at each iteration when the token is produced, this the\n",
      "model makes a prediction so that the output that emerges matches the most probable next input\n",
      "expected (to meet user desire); however the resulting output may have a little room for non\n",
      "deterministic output which allows flexibility in results which sometimes have creativity at the\n",
      "heart or some errors at a larger token level (if poorly trained). But its always better training and\n",
      "bigger tokens that better the inference results . Some common scenarios for model inference occur\n",
      "either online (replacing user interfaces like in apps or web). If you were to do model inference\n",
      "locally or offline, your data processing could be complex or your GPU can melt as a machine learning\n",
      "hardware (Nvidia A100) are necessary.  In either offline or online, during text processing, you must\n"
     ]
    }
   ],
   "source": [
    "# --- temperature sampling ----------------------------------------------------\n",
    "temp_ids = model_4bit.generate(\n",
    "    input_ids,\n",
    "    max_new_tokens=256,\n",
    "    do_sample=True,                  # enables stochastic sampling\n",
    "    temperature=1.5                  # higher = more diverse generations\n",
    ")\n",
    "\n",
    "# --- strip the prompt and decode only the reply ------------------------------\n",
    "assistant_ids = temp_ids[:, input_ids.shape[-1]:]\n",
    "temp_response = tokenizer.decode(assistant_ids[0], skip_special_tokens=True)\n",
    "\n",
    "print(\"=== Temperature Sampling (T = 1.5) ===\")\n",
    "print(textwrap.fill(temp_response, 100))\n",
    "\n"
   ]
  },
  {
   "cell_type": "code",
   "execution_count": 27,
   "metadata": {},
   "outputs": [
    {
     "name": "stdout",
     "output_type": "stream",
     "text": [
      "=== Temperature Sampling (T = 5.5) ===\n",
      "Given enough large input, including human words it previously saw; Language can get data that can\n",
      "find output  which might get you answer; for your answer the first part will learn large parts;\n",
      "model was given  in 7 large step from this kind, one answer you would expect more inference as\n",
      "answer that gets given next sentence is model can. Also I’m giving as the solution an example on\n",
      "step two on the one word with which get data. Can your get answers step with an answer can say as\n",
      "you know a word the second I write the get an accurate part the input large language on each next\n",
      "question you know to word input what will your be the solution with part of first two are a number\n",
      "the answer should say accurate output of number with part to model. It takes your response or say an\n",
      "other first for number of which kind  you number that it knows which of can accurate which the the\n",
      "step you accurate in answer . Also if input language get input get which number output language for\n",
      "second can say which for correct with number will I the output and accurate step will language\n",
      "output be what you input which in will language model what be say output can for inference output.\n",
      "Example will make as inference what a step first you will the step correct, step for how say part\n",
      "correct\n"
     ]
    }
   ],
   "source": [
    "# --- temperature sampling ----------------------------------------------------\n",
    "temp_ids = model_4bit.generate(\n",
    "    input_ids,\n",
    "    max_new_tokens=256,\n",
    "    do_sample=True,                  # enables stochastic sampling\n",
    "    temperature=5.5                  # higher = more diverse generations\n",
    ")\n",
    "\n",
    "# --- strip the prompt and decode only the reply ------------------------------\n",
    "assistant_ids = temp_ids[:, input_ids.shape[-1]:]\n",
    "temp_response = tokenizer.decode(assistant_ids[0], skip_special_tokens=True)\n",
    "\n",
    "print(\"=== Temperature Sampling (T = 5.5) ===\")\n",
    "print(textwrap.fill(temp_response, 100))\n"
   ]
  },
  {
   "cell_type": "code",
   "execution_count": 29,
   "metadata": {},
   "outputs": [
    {
     "name": "stdout",
     "output_type": "stream",
     "text": [
      "=== Top-k Sampling (k=50, T=0.7) ===\n",
      "Large language model inference involves using a pre-trained language model to generate text,\n",
      "translate languages, answer questions, or perform other natural language processing tasks. During\n",
      "inference, input text is processed through the model's layers to produce a probability distribution\n",
      "over possible next tokens. The token with the highest probability, or a sample from the\n",
      "distribution, is selected as the output. This process can be repeated to generate longer sequences\n",
      "of text, with techniques like beam search or top-k sampling used to manage the output diversity and\n",
      "coherence.\n",
      "\n"
     ]
    }
   ],
   "source": [
    "topk_outputs = model_4bit.generate(\n",
    "    input_ids, \n",
    "    max_new_tokens=256, \n",
    "    do_sample=True,\n",
    "    temperature=0.7, \n",
    "    top_k=50  # Only sample from top 50 tokens\n",
    ")\n",
    "\n",
    "assistant_ids = topk_outputs[:, input_ids.shape[-1]:]    \n",
    "topk_response = tokenizer.decode(assistant_ids[0], skip_special_tokens=True)  \n",
    "print(\"=== Top-k Sampling (k=50, T=0.7) ===\")\n",
    "print(textwrap.fill(topk_response, 100))\n",
    "print()"
   ]
  },
  {
   "cell_type": "code",
   "execution_count": 30,
   "metadata": {},
   "outputs": [
    {
     "name": "stdout",
     "output_type": "stream",
     "text": [
      "=== Top-p Sampling (p=0.9, T=0.7) ===\n",
      "Large language model inference involves using a pre-trained model to generate text, translate\n",
      "languages, answer questions, or perform other tasks. The model processes input text and predicts the\n",
      "most likely next words or phrases based on patterns it learned during training. This is done using a\n",
      "process called autoregressive generation, where the model generates one token at a time, using the\n",
      "previously generated tokens as context. The model's performance depends on its architecture,\n",
      "training data, and the specific inference technique used.\n",
      "\n"
     ]
    }
   ],
   "source": [
    "topp_outputs = model_4bit.generate(\n",
    "    input_ids,\n",
    "    max_new_tokens=256,\n",
    "    do_sample=True,\n",
    "    temperature=0.7,\n",
    "    top_p=0.9   # Keep the top 90% probability mass\n",
    ")\n",
    "\n",
    "assistant_ids = topp_outputs[:, input_ids.shape[-1]:]    \n",
    "topp_response = tokenizer.decode(assistant_ids[0], skip_special_tokens=True)  \n",
    "\n",
    "print(\"=== Top-p Sampling (p=0.9, T=0.7) ===\")\n",
    "print(textwrap.fill(topp_response, 100))\n",
    "print()\n"
   ]
  },
  {
   "cell_type": "code",
   "execution_count": 31,
   "metadata": {},
   "outputs": [
    {
     "name": "stdout",
     "output_type": "stream",
     "text": [
      "=== Combined Sampling (top_k=50, top_p=0.9, T=0.8) ===\n",
      "Large language model inference involves using a pre-trained model to generate text predictions based\n",
      "on given input. The model has been trained on a vast amount of data, allowing it to understand and\n",
      "produce human-like text. During inference, the model processes input data, predicts the likelihood\n",
      "of subsequent words or tokens, and generates text by selecting the most probable options. This\n",
      "process can be used for various natural language processing tasks, such as text completion,\n",
      "translation, summarization, and question-answering.\n",
      "\n"
     ]
    }
   ],
   "source": [
    "combo_outputs = model_4bit.generate(\n",
    "    input_ids,\n",
    "    max_new_tokens=256,\n",
    "    do_sample=True,\n",
    "    temperature=0.8,\n",
    "    top_k=50,\n",
    "    top_p=0.9\n",
    ")\n",
    "\n",
    "assistant_ids = combo_outputs[:, input_ids.shape[-1]:]    \n",
    "combo_response = tokenizer.decode(assistant_ids[0], skip_special_tokens=True)  \n",
    "print(\"=== Combined Sampling (top_k=50, top_p=0.9, T=0.8) ===\")\n",
    "print(textwrap.fill(combo_response, 100))\n",
    "print()\n"
   ]
  },
  {
   "cell_type": "markdown",
   "metadata": {},
   "source": [
    "## Advanced Inference Techniques\n",
    "\n",
    "Now that we've selected 4-bit quantization for its efficiency, let's explore more advanced inference techniques."
   ]
  },
  {
   "cell_type": "markdown",
   "metadata": {},
   "source": [
    "### Batch Processing for Throughput\n",
    "\n",
    "Processing multiple inputs at once can be more efficient:"
   ]
  },
  {
   "cell_type": "code",
   "execution_count": null,
   "metadata": {},
   "outputs": [
    {
     "name": "stdout",
     "output_type": "stream",
     "text": [
      "Individual processing time: 124.42s\n",
      "Batch processing time: 102.71s\n",
      "Speed improvement: 1.21x\n"
     ]
    }
   ],
   "source": [
    "# Create a batch of prompts\n",
    "prompts = [\n",
    "    \"What is machine learning?\",\n",
    "    \"Explain neural networks\",\n",
    "    \"How do transformers work?\",\n",
    "    \"Define reinforcement learning\",\n",
    "    \"What is transfer learning?\"\n",
    "]\n",
    "\n",
    "# Process individually\n",
    "start_time = time.time()\n",
    "individual_outputs = []\n",
    "for prompt in prompts:\n",
    "    inputs = tokenizer(prompt, return_tensors=\"pt\").to(model_4bit.device)\n",
    "    outputs = model_4bit.generate(inputs[\"input_ids\"], \n",
    "                                  max_new_tokens=256)\n",
    "    individual_outputs.append(tokenizer.decode(outputs[0], skip_special_tokens=True))\n",
    "    \n",
    "individual_time = time.time() - start_time\n",
    "print(f\"Individual processing time: {individual_time:.2f}s\")\n",
    "\n",
    "# Process as a batch\n",
    "start_time = time.time()\n",
    "batch_inputs = tokenizer(prompts, padding=True, return_tensors=\"pt\").to(model_4bit.device)\n",
    "batch_outputs = model_4bit.generate(batch_inputs[\"input_ids\"], \n",
    "                                    max_new_tokens=256)\n",
    "\n",
    "batch_decoded = [tokenizer.decode(output, skip_special_tokens=True) for output in batch_outputs]\n",
    "batch_time = time.time() - start_time\n",
    "print(f\"Batch processing time: {batch_time:.2f}s\")\n",
    "print(f\"Speed improvement: {individual_time/batch_time:.2f}x\")"
   ]
  },
  {
   "cell_type": "markdown",
   "metadata": {},
   "source": [
    "### Using KV Caching for Faster Generation"
   ]
  },
  {
   "cell_type": "code",
   "execution_count": null,
   "metadata": {},
   "outputs": [
    {
     "name": "stdout",
     "output_type": "stream",
     "text": [
      "Standard generation time (no-cache): 38.82s\n",
      "KV cache generation time: 4.82s\n",
      "Speed improvement: 8.06x\n"
     ]
    }
   ],
   "source": [
    "# ----- build one chat exchange ------------------------------------------------\n",
    "messages = [\n",
    "    {\"role\": \"system\", \"content\": system_prompt},\n",
    "    {\"role\": \"user\",   \"content\": \"The benefits of artificial intelligence in healthcare include:\"}\n",
    "]\n",
    "\n",
    "input_ids = tokenizer.apply_chat_template(\n",
    "    messages,\n",
    "    add_generation_prompt=True,\n",
    "    return_tensors=\"pt\"\n",
    ").to(model_4bit.device)\n",
    "\n",
    "# ----- generation without KV-cache -------------------------------------------\n",
    "start_time = time.time()\n",
    "no_cache_ids = model_4bit.generate(\n",
    "    input_ids,\n",
    "    max_new_tokens=512,\n",
    "    use_cache=False            # turn OFF cache\n",
    ")\n",
    "t_no_cache = time.time() - start_time\n",
    "print(f\"Standard generation time (no-cache): {t_no_cache:.2f}s\")\n",
    "\n",
    "# strip prompt and decode\n",
    "reply_no_cache = tokenizer.decode(no_cache_ids[0][input_ids.shape[-1]:],\n",
    "                                  skip_special_tokens=True)\n",
    "\n",
    "# ----- generation with KV-cache ----------------------------------------------\n",
    "start_time = time.time()\n",
    "cache_ids = model_4bit.generate(\n",
    "    input_ids,\n",
    "    max_new_tokens=512,\n",
    "    use_cache=True             # turn ON cache\n",
    ")\n",
    "t_cache = time.time() - start_time\n",
    "print(f\"KV cache generation time: {t_cache:.2f}s\")\n",
    "print(f\"Speed improvement: {t_no_cache / t_cache:.2f}x\")\n",
    "\n"
   ]
  },
  {
   "cell_type": "markdown",
   "metadata": {},
   "source": [
    "### Streaming Generation\n",
    "\n",
    "For better user experience, we can stream the model output:"
   ]
  },
  {
   "cell_type": "code",
   "execution_count": null,
   "metadata": {},
   "outputs": [
    {
     "name": "stdout",
     "output_type": "stream",
     "text": [
      "Machine learning is a subset of artificial intelligence that involves training algorithms to learn\n",
      "from data, identify patterns, and make decisions with minimal human intervention. It uses\n",
      "statistical techniques to enable computers to improve their performance on a task over time, without\n",
      "being explicitly programmed for that task. Machine learning is widely applied in various fields such\n",
      "as image and speech recognition, natural language processing, and predictive analytics, driving\n",
      "advancements in technology and data-driven decision-making.Machine learning is a subset of artificial intelligence that involves training algorithms to learn\n",
      "from data, identify patterns, and make decisions with minimal human intervention. It uses\n",
      "statistical techniques to enable computers to improve their performance on a task over time, without\n",
      "being explicitly programmed for that task. Machine learning is widely applied in various fields such\n",
      "as image and speech recognition, natural language processing, and predictive analytics, driving\n",
      "advancements in technology and data-driven decision-making.\n"
     ]
    }
   ],
   "source": [
    "# ---- build system + user messages -------------------------------------------\n",
    "system_prompt = \"\"\"You are a helpful assistant. Reply concisely in one paragraph.\"\"\"\n",
    "messages = [\n",
    "    {\"role\": \"system\", \"content\": system_prompt},\n",
    "    {\"role\": \"user\",   \"content\": \"Write a short introduction about machine learning:\"}\n",
    "]\n",
    "\n",
    "# ---- format with the tokenizer’s chat template ------------------------------\n",
    "input_ids = tokenizer.apply_chat_template(\n",
    "    messages,\n",
    "    add_generation_prompt=True,          # inserts the assistant-start token\n",
    "    return_tensors=\"pt\"\n",
    ").to(model_fp16.device)\n",
    "\n",
    "prompt_len   = input_ids.shape[-1]       # remember where the reply begins\n",
    "generated_ids = input_ids.clone()        # will grow token-by-token\n",
    "past_key_values = None\n",
    "response = \"\"                            # what we display\n",
    "\n",
    "# ---- streamed generation loop -----------------------------------------------\n",
    "for _ in range(200):\n",
    "    clear_output(wait=True)\n",
    "    print(textwrap.fill(response, 100), end=\"\")\n",
    "\n",
    "    with torch.no_grad():\n",
    "        outputs = model_4bit(\n",
    "            input_ids = generated_ids[:, -1:] if past_key_values is not None else generated_ids,\n",
    "            past_key_values = past_key_values,\n",
    "            use_cache = True              # keep / extend the KV cache\n",
    "        )\n",
    "\n",
    "    past_key_values = outputs.past_key_values\n",
    "\n",
    "    # temperature sampling (T = 0.7)\n",
    "    logits = outputs.logits[:, -1, :] / 0.7\n",
    "    probs  = torch.softmax(logits, dim=-1)\n",
    "    next_token_id = torch.multinomial(probs, num_samples=1)\n",
    "\n",
    "    generated_ids = torch.cat([generated_ids, next_token_id], dim=-1)\n",
    "\n",
    "    # decode only the new assistant token\n",
    "    next_tok = tokenizer.decode(next_token_id[0], skip_special_tokens=True)\n",
    "    response += next_tok\n",
    "\n",
    "    # stop if EOS\n",
    "    if next_token_id.item() == tokenizer.eos_token_id:\n",
    "        break\n",
    "\n",
    "    time.sleep(0.1)                       # slow down for the demo\n",
    "\n",
    "\n",
    "print(textwrap.fill(response, 100))\n"
   ]
  },
  {
   "cell_type": "markdown",
   "metadata": {},
   "source": [
    "## Conclusion and Further Resources\n",
    "\n",
    "In this notebook, we've explored various techniques for efficient LLM inference:\n",
    "\n",
    "1. Different precision formats (FP16, BF16, INT8, INT4) with their memory and speed tradeoffs\n",
    "2. Batch processing for increased throughput\n",
    "3. KV caching for faster token generation\n",
    "4. Streaming generation for better user experience\n",
    "5. Speculative decoding to speed up inference\n",
    "\n",
    "For further optimization, consider exploring:\n",
    "\n",
    "- Specialized inference libraries like vLLM, DeepSpeed or TensorRT-LLM\n",
    "- Mixture of Experts (MoE) models like Mixtral\n",
    "- Model distillation to create smaller, faster models\n",
    "- Prompt engineering for token efficiency\n",
    "- Hardware-specific optimizations (CUDA graphs, FlashAttention, etc.)\n",
    "\n",
    "Key references:\n",
    "- [Hugging Face Efficient Inference Guide](https://huggingface.co/docs/transformers/main/en/perf_infer_gpu_one)\n",
    "- [vLLM Documentation](https://docs.vllm.ai/)\n",
    "- [Speculative Decoding Paper](https://arxiv.org/abs/2302.01318)\n",
    "- [FlashAttention Paper](https://arxiv.org/abs/2205.14135)"
   ]
  }
 ],
 "metadata": {
  "kernelspec": {
   "display_name": "pytorch",
   "language": "python",
   "name": "pytorch"
  }
 },
 "nbformat": 4,
 "nbformat_minor": 4
}
